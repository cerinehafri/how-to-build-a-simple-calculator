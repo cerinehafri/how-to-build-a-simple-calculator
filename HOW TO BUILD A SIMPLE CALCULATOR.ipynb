{
 "cells": [
  {
   "cell_type": "code",
   "execution_count": 32,
   "id": "39e8f883",
   "metadata": {},
   "outputs": [
    {
     "name": "stdout",
     "output_type": "stream",
     "text": [
      "1.addition\n",
      "2.subtraction\n",
      "3.multiplication\n",
      "4.division\n",
      "5.modulus\n",
      "6.Exponetiation\n",
      "7.Floor division\n",
      "3\n"
     ]
    }
   ],
   "source": [
    "print(\"1.addition\")\n",
    "print(\"2.subtraction\")\n",
    "print(\"3.multiplication\")\n",
    "print(\"4.division\")\n",
    "print(\"5.modulus\")\n",
    "print(\"6.Exponetiation\")\n",
    "print(\"7.Floor division\")\n",
    "operation=int(input())\n"
   ]
  },
  {
   "cell_type": "code",
   "execution_count": 33,
   "id": "1cad2a15",
   "metadata": {},
   "outputs": [
    {
     "name": "stdout",
     "output_type": "stream",
     "text": [
      "plz unter the first number3\n",
      "plz unter the second number3\n",
      "the result of the operation is 9\n"
     ]
    }
   ],
   "source": [
    "if operation==1:\n",
    "    num1=input(\"plz unter the first number\")\n",
    "    num2=input(\"plz unter the second number\")\n",
    "    print(\"the result of the operation is \"+ str(int(num1) + int(num2)))\n",
    "elif operation==2:\n",
    "    num1=input(\"plz unter the first number\")\n",
    "    num2=input(\"plz unter the second number\")\n",
    "    print(\"the result of the operation is \"+str(int(num1) - int(num2)))\n",
    "elif operation==3:\n",
    "    num1=input(\"plz unter the first number\")\n",
    "    num2=input(\"plz unter the second number\")\n",
    "    print(\"the result of the operation is \"+str(int(num1) * int(num2)))\n",
    "elif operation==4:\n",
    "    num1=input(\"plz unter the first number\")\n",
    "    num2=input(\"plz unter the second number\")\n",
    "    print(\"the result of the operation is \"+ str(int(num1) / int(num2)))\n",
    "elif operation==5:\n",
    "    num1=input(\"plz unter the first number\")\n",
    "    num2=input(\"plz unter the second number\")\n",
    "    print(\"the result of the operation is \"+ str(int(num1) % int(num2)))\n",
    "elif operation==6:\n",
    "    num1=input(\"plz unter the first number\")\n",
    "    num2=input(\"plz unter the second number\")\n",
    "    print(\"the result of the operation is \"+ str(int(num1) ** int(num2)))\n",
    "elif operation==7:\n",
    "    num1=input(\"plz unter the first number\")\n",
    "    num2=input(\"plz unter the second number\")\n",
    "    print(\"the result of the operation is \"+ str(int(num1) //int(num2)))\n",
    "else:\n",
    "    print(\"invilide entery\")\n"
   ]
  },
  {
   "cell_type": "code",
   "execution_count": null,
   "id": "3cebf5ef",
   "metadata": {},
   "outputs": [],
   "source": []
  },
  {
   "cell_type": "code",
   "execution_count": null,
   "id": "7dd8500b",
   "metadata": {},
   "outputs": [],
   "source": []
  }
 ],
 "metadata": {
  "kernelspec": {
   "display_name": "Python 3 (ipykernel)",
   "language": "python",
   "name": "python3"
  },
  "language_info": {
   "codemirror_mode": {
    "name": "ipython",
    "version": 3
   },
   "file_extension": ".py",
   "mimetype": "text/x-python",
   "name": "python",
   "nbconvert_exporter": "python",
   "pygments_lexer": "ipython3",
   "version": "3.9.12"
  }
 },
 "nbformat": 4,
 "nbformat_minor": 5
}
